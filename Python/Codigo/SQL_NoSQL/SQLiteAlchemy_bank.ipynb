{
  "nbformat": 4,
  "nbformat_minor": 0,
  "metadata": {
    "colab": {
      "provenance": []
    },
    "kernelspec": {
      "name": "python3",
      "display_name": "Python 3"
    },
    "language_info": {
      "name": "python"
    }
  },
  "cells": [
    {
      "cell_type": "code",
      "execution_count": 1,
      "metadata": {
        "id": "nRyBP4gzW3RK"
      },
      "outputs": [],
      "source": [
        "import sqlalchemy as sqlA\n",
        "from sqlalchemy.orm import declarative_base\n",
        "from sqlalchemy.orm import relationship\n",
        "from sqlalchemy.orm import Session\n",
        "from sqlalchemy import Column\n",
        "from sqlalchemy import Integer\n",
        "from sqlalchemy import String\n",
        "from sqlalchemy import Float\n",
        "from sqlalchemy import ForeignKey\n",
        "from sqlalchemy import create_engine\n",
        "from sqlalchemy import inspect\n",
        "from sqlalchemy import select\n",
        "from sqlalchemy import func\n",
        "import pprint"
      ]
    },
    {
      "cell_type": "code",
      "source": [
        "Base = declarative_base()"
      ],
      "metadata": {
        "id": "lToDGvKdXp5E"
      },
      "execution_count": 2,
      "outputs": []
    },
    {
      "cell_type": "code",
      "source": [
        "# Create Tables\n",
        "\n",
        "class Client(Base):\n",
        "  __tablename__ = \"client\"\n",
        "  # attributes\n",
        "  id = Column(Integer, primary_key=True, autoincrement=True)\n",
        "  name = Column(String(50), nullable=False)\n",
        "  document = Column(String(11), nullable=False)\n",
        "  address= Column(String(100), nullable=False)\n",
        "\n",
        "  account = relationship(\n",
        "      \"Account\", back_populates=\"client\", cascade = \"all, delete-orphan\"\n",
        "  )\n",
        "\n",
        "  def __repr__(self):\n",
        "    return f\"Client(id={self.id}, name={self.name}, document={self.document}, document={self.address})\"\n",
        "\n",
        "class Account(Base):\n",
        "  __tablename__ = \"account\"\n",
        "  # attributes\n",
        "  id = Column(Integer, primary_key=True, autoincrement=True)\n",
        "  type_acc = Column(String, nullable=False)\n",
        "  agency = Column(Integer, nullable=False)\n",
        "  acc_number = Column(Integer, nullable=False)\n",
        "  balance = Column(Float, nullable=False)\n",
        "  # A check account belongs to a client\n",
        "  id_cli = Column(Integer, ForeignKey(\"client.id\"), nullable=False)\n",
        "  \n",
        "  client = relationship(\n",
        "      \"Client\", back_populates=\"account\"\n",
        "  )\n",
        "\n",
        "  def __repr__(self):\n",
        "    return f\"Account(id={self.id}, type_acc={self.type_acc}, agency={self.agency}, account={self.acc_number}, balance={self.balance}, id_cli={self.id_cli})\"\n"
      ],
      "metadata": {
        "id": "TjVyd0C0ZJuC"
      },
      "execution_count": 3,
      "outputs": []
    },
    {
      "cell_type": "code",
      "source": [
        "# print the name of created tables\n",
        "print(Client.__tablename__)\n",
        "print(Account.__tablename__)"
      ],
      "metadata": {
        "colab": {
          "base_uri": "https://localhost:8080/"
        },
        "id": "2BCDtn-0iP0q",
        "outputId": "1cd7c1fa-92c1-4092-c3b2-d78f1d84c028"
      },
      "execution_count": 4,
      "outputs": [
        {
          "output_type": "stream",
          "name": "stdout",
          "text": [
            "client\n",
            "account\n"
          ]
        }
      ]
    },
    {
      "cell_type": "code",
      "source": [
        "# create a connection \n",
        "engine = create_engine(\"sqlite://\")"
      ],
      "metadata": {
        "id": "M_27Rrh35rLM"
      },
      "execution_count": 5,
      "outputs": []
    },
    {
      "cell_type": "code",
      "source": [
        "# generating tables from the classes\n",
        "Base.metadata.create_all(engine)"
      ],
      "metadata": {
        "id": "rXpaeuS060V2"
      },
      "execution_count": 6,
      "outputs": []
    },
    {
      "cell_type": "code",
      "source": [
        "# inspect the schema\n",
        "inspect_engine = inspect(engine)\n",
        "\n",
        "print(inspect_engine.get_table_names())\n",
        "print(inspect_engine.default_schema_name)"
      ],
      "metadata": {
        "colab": {
          "base_uri": "https://localhost:8080/"
        },
        "id": "_k9B4IpO-L8R",
        "outputId": "8a270aa6-3c6d-4598-e9d4-63f4850de8bb"
      },
      "execution_count": 7,
      "outputs": [
        {
          "output_type": "stream",
          "name": "stdout",
          "text": [
            "['account', 'client']\n",
            "main\n"
          ]
        }
      ]
    },
    {
      "cell_type": "code",
      "source": [
        "# create an instance\n",
        "with Session(engine) as session:\n",
        "  maria = Client(\n",
        "      name = \"Maria da Silva\",\n",
        "      document = \"9999999999999\",\n",
        "      address = \"100, Fifth Avenue, Santa Barbara - CA\",\n",
        "      account = [Account(type_acc=\"C\", agency=111, acc_number=123456, balance=50.55)]\n",
        "  )\n",
        "  jose = Client(\n",
        "      name = \"Jose Pereira\",\n",
        "      document = \"8888888888888\",\n",
        "      address = \"22, President Kennedy Street, Orlando - FL\",\n",
        "      account = [Account(type_acc=\"C\", agency=111, acc_number=123456, balance=50000.55),\n",
        "                 Account(type_acc=\"S\", agency=111, acc_number=222333, balance=500.55)]\n",
        "  )\n",
        "  pedro = Client(\n",
        "      name = \"Pedro Ribeiro\",\n",
        "      document = \"1234567890987\",\n",
        "      address = \"1523, , Flower Street, New York - NY\"\n",
        "  )"
      ],
      "metadata": {
        "id": "RC6iI6Px_q3q"
      },
      "execution_count": 8,
      "outputs": []
    },
    {
      "cell_type": "code",
      "source": [
        "# add instances to the session\n",
        "session.add_all([maria, jose, pedro])\n",
        "session.commit()\n"
      ],
      "metadata": {
        "id": "bA7BV9KGyaQM"
      },
      "execution_count": 9,
      "outputs": []
    },
    {
      "cell_type": "code",
      "source": [
        "# search for client\n",
        "stmt = select(Client).where(Client.name.in_([\"Maria da Silva\", \"Pedro Ribeiro\"]))\n",
        "for item in session.scalars(stmt):\n",
        "  print(item)\n"
      ],
      "metadata": {
        "colab": {
          "base_uri": "https://localhost:8080/"
        },
        "id": "x5mDO1resDlH",
        "outputId": "a8341d55-23ca-4d06-a3aa-3f0d1d196f4c"
      },
      "execution_count": 10,
      "outputs": [
        {
          "output_type": "stream",
          "name": "stdout",
          "text": [
            "Client(id=1, name=Maria da Silva, document=9999999999999, document=100, Fifth Avenue, Santa Barbara - CA)\n",
            "Client(id=3, name=Pedro Ribeiro, document=1234567890987, document=1523, , Flower Street, New York - NY)\n"
          ]
        }
      ]
    },
    {
      "cell_type": "code",
      "source": [
        "# search for accounts\n",
        "stmt = select(Account).where(Account.id_cli.in_([2]))\n",
        "for item in session.scalars(stmt):\n",
        "  print(item)"
      ],
      "metadata": {
        "colab": {
          "base_uri": "https://localhost:8080/"
        },
        "id": "foXidE7mEzPU",
        "outputId": "62f132d0-ab53-4215-c4c6-753b9d050882"
      },
      "execution_count": 11,
      "outputs": [
        {
          "output_type": "stream",
          "name": "stdout",
          "text": [
            "Account(id=2, type_acc=C, agency=111, account=123456, balance=50000.55, id_cli=2)\n",
            "Account(id=3, type_acc=S, agency=111, account=222333, balance=500.55, id_cli=2)\n"
          ]
        }
      ]
    },
    {
      "cell_type": "code",
      "source": [
        "# search for jose account\n",
        "stmt = select(Client).where(Account.id_cli.in_([1]))\n",
        "for item in session.scalars(stmt):\n",
        "  print(item)"
      ],
      "metadata": {
        "colab": {
          "base_uri": "https://localhost:8080/"
        },
        "id": "TdGvG20Nw_gt",
        "outputId": "ae387950-da60-4238-a71f-5a3dce119358"
      },
      "execution_count": 12,
      "outputs": [
        {
          "output_type": "stream",
          "name": "stdout",
          "text": [
            "Client(id=1, name=Maria da Silva, document=9999999999999, document=100, Fifth Avenue, Santa Barbara - CA)\n",
            "Client(id=2, name=Jose Pereira, document=8888888888888, document=22, President Kennedy Street, Orlando - FL)\n",
            "Client(id=3, name=Pedro Ribeiro, document=1234567890987, document=1523, , Flower Street, New York - NY)\n"
          ]
        },
        {
          "output_type": "stream",
          "name": "stderr",
          "text": [
            "<ipython-input-12-2fa39505aa29>:3: SAWarning: SELECT statement has a cartesian product between FROM element(s) \"account\" and FROM element \"client\".  Apply join condition(s) between each element to resolve.\n",
            "  for item in session.scalars(stmt):\n"
          ]
        }
      ]
    },
    {
      "cell_type": "code",
      "source": [
        "# search for client order by name (desc) descendant or (asc) ascendant\n",
        "stmt = select(Client).order_by(Client.name.desc())\n",
        "for item in session.scalars(stmt):\n",
        "  pprint.pprint(item)"
      ],
      "metadata": {
        "colab": {
          "base_uri": "https://localhost:8080/"
        },
        "id": "U5PRFSBbx091",
        "outputId": "d202e6b8-c710-456c-b210-e223c56e1e80"
      },
      "execution_count": 13,
      "outputs": [
        {
          "output_type": "stream",
          "name": "stdout",
          "text": [
            "Client(id=3, name=Pedro Ribeiro, document=1234567890987, document=1523, , Flower Street, New York - NY)\n",
            "Client(id=1, name=Maria da Silva, document=9999999999999, document=100, Fifth Avenue, Santa Barbara - CA)\n",
            "Client(id=2, name=Jose Pereira, document=8888888888888, document=22, President Kennedy Street, Orlando - FL)\n"
          ]
        }
      ]
    },
    {
      "cell_type": "code",
      "source": [
        "# search for client and related account\n",
        "stmt = select(Client.name, Account.acc_number).join_from(Client, Account)\n",
        "for item in session.scalars(stmt):\n",
        "  pprint.pprint(item)"
      ],
      "metadata": {
        "colab": {
          "base_uri": "https://localhost:8080/"
        },
        "id": "GQJrKR_Qw_88",
        "outputId": "a4c076de-aca5-47fe-d977-729d93bc5ed5"
      },
      "execution_count": 27,
      "outputs": [
        {
          "output_type": "stream",
          "name": "stdout",
          "text": [
            "'Maria da Silva'\n",
            "'Jose Pereira'\n",
            "'Jose Pereira'\n"
          ]
        }
      ]
    },
    {
      "cell_type": "code",
      "source": [
        "# # execute a statement in a connection from account and related client\n",
        "stmt = select(Account.acc_number, Client.name).join_from(Account, Client)\n",
        "connection = engine.connect()\n",
        "results = connection.execute(stmt).fetchall()\n",
        "for result in results:\n",
        "  pprint.pprint(result)"
      ],
      "metadata": {
        "colab": {
          "base_uri": "https://localhost:8080/"
        },
        "id": "22qAbsDKJf0D",
        "outputId": "a9b413f9-bd03-4522-ad49-7c8e3edc6d10"
      },
      "execution_count": 14,
      "outputs": [
        {
          "output_type": "stream",
          "name": "stdout",
          "text": [
            "(123456, 'Maria da Silva')\n",
            "(123456, 'Jose Pereira')\n",
            "(222333, 'Jose Pereira')\n"
          ]
        }
      ]
    },
    {
      "cell_type": "code",
      "source": [
        "# execute a statement in a connection from client and related account\n",
        "stmt = select(Client.name, Account.acc_number).join_from(Client, Account)\n",
        "connection = engine.connect()\n",
        "results = connection.execute(stmt).fetchall()\n",
        "for result in results:\n",
        "  pprint.pprint(result)"
      ],
      "metadata": {
        "colab": {
          "base_uri": "https://localhost:8080/"
        },
        "id": "et0u2Yq97AHZ",
        "outputId": "c05f9566-c5f0-4825-ef92-dccf63babb9e"
      },
      "execution_count": 15,
      "outputs": [
        {
          "output_type": "stream",
          "name": "stdout",
          "text": [
            "('Maria da Silva', 123456)\n",
            "('Jose Pereira', 123456)\n",
            "('Jose Pereira', 222333)\n"
          ]
        }
      ]
    },
    {
      "cell_type": "code",
      "source": [
        "# counting items from a result\n",
        "stmt = select(func.count('*')).select_from(Client)\n",
        "for result in session.scalars(stmt):\n",
        "  print(result)"
      ],
      "metadata": {
        "colab": {
          "base_uri": "https://localhost:8080/"
        },
        "id": "iqIyJgg-7zeS",
        "outputId": "33260395-e9b0-4287-b8ba-5588b912fe9e"
      },
      "execution_count": 16,
      "outputs": [
        {
          "output_type": "stream",
          "name": "stdout",
          "text": [
            "3\n"
          ]
        }
      ]
    },
    {
      "cell_type": "code",
      "source": [
        "# closing the session\n",
        "session.close()"
      ],
      "metadata": {
        "id": "leMaRWqy9ssD"
      },
      "execution_count": 17,
      "outputs": []
    }
  ]
}